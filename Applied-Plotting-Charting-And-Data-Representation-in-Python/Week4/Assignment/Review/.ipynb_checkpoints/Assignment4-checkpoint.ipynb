{
 "cells": [
  {
   "cell_type": "markdown",
   "metadata": {},
   "source": [
    "# Data Science Visualization in Python\n",
    "\n",
    "## 1. Region and Domain\n",
    "Global, Music Industry\n",
    "    \n",
    "## 2. Research Question\n",
    "Which, if any, features of a song _might_ be predictive of it's popularity? I won't be doing any statistical analysis or modeling here, just exploring a few variables of interest for the question.  \n",
    "    \n",
    "## 3. Links\n",
    "A discussion of the data set: https://labrosa.ee.columbia.edu/millionsong/\n",
    "I ended up using a CSV subset from here: https://think.cs.vt.edu/corgis/csv/music/music.csv?forcedownload=1\n",
    "Field Descriptions here: https://think.cs.vt.edu/corgis/csv/music/music.html\n",
    "## 4. Graphs\n",
    "<b>You must upload an image which addresses the research question you stated. In addition to addressing the question, this visual should follow Cairo’s principles of truthfulness, functionality, beauty, and insightfulness.</b>\n",
    "<img src=\"final.png\" width=\"1000\" align=\"center\"/>\n",
    "\n",
    "Truthfulness: You will notice that many of the charts in the grid do not show a strong relationship. This is because the data has not been tampered with and MOST of the time MOST variables collected in a study don't turn out to be strong predictors of the variable of interest (in this case - song popularity). \n",
    "\n",
    "Functionality: These charts feature a shared X axis, allowing you to compare song popularity against all of these different data features.  Rather than using frequency for Minor/Major key info, I instead used a probability density function. That makes comparison easy between songs played with different keys.\n",
    "\n",
    "Beauty: Nice, Soft Colors are used as well as transparency. \n",
    "\n",
    "Insightfulness: I hope you're left interested in how song popularity could be predicted by chart features. \n",
    "## 5. Discussion\n",
    "<b>You must contribute a short (1-2 paragraph) written justification of how your visualization addresses your stated research question.</b>\n",
    "\n",
    "The point of this research was to determine a few variables that might be valuable in a predictive model for song popularity. From the graph, it's obvious that Artist Popularity, loudness, and tempo deserve a closer look - perhaps with the full dataset. \n",
    "\n",
    "On the other hand, the length of the artist's name and the key of the song could probably be left off of a machine learning model, and certainly additional features should be explored. \n",
    "    \n",
    "## 6. Citations\n",
    "Thierry Bertin-Mahieux, Daniel P.W. Ellis, Brian Whitman, and Paul Lamere. \n",
    "The Million Song Dataset. In Proceedings of the 12th International Society\n",
    "for Music Information Retrieval Conference (ISMIR 2011), 2011.\n",
    "\n",
    "## 7. Code\n"
   ]
  },
  {
   "cell_type": "code",
   "execution_count": 1,
   "metadata": {},
   "outputs": [],
   "source": [
    "#ALL libraries should go here\n",
    "import pandas as pd\n",
    "import numpy as np\n",
    "import matplotlib.pyplot as plt\n",
    "import seaborn as sns\n",
    "\n",
    "%matplotlib inline"
   ]
  },
  {
   "cell_type": "code",
   "execution_count": 2,
   "metadata": {},
   "outputs": [],
   "source": [
    "#Set a nice style for the plots\n",
    "#In this case, I'm making a plot for music studio execs and will choose a soft, pleasing theme\n",
    "plt.style.use('seaborn-pastel')"
   ]
  },
  {
   "cell_type": "code",
   "execution_count": null,
   "metadata": {},
   "outputs": [],
   "source": [
    "!wget --no-check-certificate https://think.cs.vt.edu/corgis/csv/music/music.csv\n",
    "df = pd.read_csv('music.csv')\n",
    "print(df.head())\n",
    "print(df.columns)"
   ]
  },
  {
   "cell_type": "code",
   "execution_count": null,
   "metadata": {},
   "outputs": [],
   "source": [
    "# preprocessing\n",
    "#remove rows of very unpopular songs\n",
    "tempdf = df[(df['song.hotttnesss']>=0.1)]\n",
    "#remove rows of very unpopular artists\n",
    "tempdf = tempdf[(tempdf['artist.hotttnesss']>=0.1)]\n",
    "mylen = np.vectorize(len)\n",
    "tempdf['artist_name_length'] = mylen(tempdf['artist.name'])"
   ]
  },
  {
   "cell_type": "code",
   "execution_count": null,
   "metadata": {},
   "outputs": [],
   "source": [
    "#Lets create a 3x2 grid and select my favorite graphs for it\n",
    "fig = plt.figure(figsize=(20,11))\n",
    "# ax = fig.add_subplot(111)\n",
    "ax1 = fig.add_subplot(231)\n",
    "ax2 = fig.add_subplot(232)\n",
    "ax3 = fig.add_subplot(233)\n",
    "ax4 = fig.add_subplot(234)\n",
    "ax5 = fig.add_subplot(235)\n",
    "ax6 = fig.add_subplot(236)\n",
    "\n",
    "# ax.tick_params(labelcolor='w', top=False, bottom=False, left=False, right=False)\n",
    "\n",
    "# ax.set_xlabel('Song Popularity')\n",
    "# ax.set_title('Song Popularity Vs. Various Song Features')\n",
    "fig.suptitle('Song Popularity Vs. Various Song Features', fontsize=24)\n",
    "\n",
    "ax1.scatter(tempdf['song.hotttnesss'], tempdf['loudness'], alpha=0.35, color='red')\n",
    "ax1.set_ylabel('Loudness',fontsize=16)\n",
    "ax1.set_ylim([-30,0])\n",
    "\n",
    "ax2.scatter(tempdf['song.hotttnesss'], tempdf['duration'], alpha=0.35, color='grey')\n",
    "ax2.set_ylabel('Duration (s)',fontsize=16)\n",
    "ax2.set_ylim([0,600])\n",
    "\n",
    "ax3.scatter(tempdf['song.hotttnesss'], tempdf['tempo'], alpha=0.35, color='blue')\n",
    "ax3.set_ylabel('Tempo (bpm)',fontsize=16)\n",
    "ax3.set_ylim([25,250])\n",
    "\n",
    "minor = tempdf[(tempdf['mode'] == 0)]\n",
    "major = tempdf[(tempdf['mode'] == 1)]\n",
    "ax4.hist(minor['song.hotttnesss'],alpha=0.35, bins=20, label='Minor', density=True)\n",
    "ax4.hist(major['song.hotttnesss'],alpha=0.35, bins=20, label='Major', density=True)\n",
    "ax4.set_ylabel('Probability Density of Songs - key',fontsize=16)\n",
    "ax4.set_label(['Minor','Major'])\n",
    "ax4.legend()\n",
    "\n",
    "ax5.scatter(tempdf['song.hotttnesss'], tempdf['artist.hotttnesss'], alpha=0.35, color='purple')\n",
    "ax5.axes.set_xlabel('Song Popularity', fontsize=20)\n",
    "ax5.axes.set_ylabel('Artist Popularity',fontsize=16)\n",
    "ax5.set_ylim([0,1])\n",
    "\n",
    "ax6.scatter(tempdf['song.hotttnesss'], tempdf['artist_name_length'], alpha=0.35, color='green')\n",
    "ax6.axes.set_ylabel('Artist Name Length',fontsize=16)\n",
    "ax6.set_ylim([0,25])\n",
    "\n",
    "fig.tight_layout()\n",
    "fig.subplots_adjust(top=0.92, bottom=0.05, hspace = 0.1)\n",
    "plt.savefig('final.png', dpi=72)\n"
   ]
  },
  {
   "cell_type": "code",
   "execution_count": null,
   "metadata": {},
   "outputs": [],
   "source": [
    "#Hypothesis: Very loud and very quiet songs will not be popular\n",
    "grid = sns.jointplot(tempdf['song.hotttnesss'], tempdf['loudness'], alpha=0.5)\n",
    "grid.set_axis_labels('Song Popularity','Loudness')\n",
    "#It seems only quiet songs pay a penalty"
   ]
  },
  {
   "cell_type": "code",
   "execution_count": null,
   "metadata": {},
   "outputs": [],
   "source": [
    "#Hypothesis: Very short songs and very long songs will not be popular\n",
    "grid = sns.jointplot(tempdf['song.hotttnesss'], tempdf['duration'], alpha=0.5)\n",
    "grid.set_axis_labels('Song Popularity','Duration (s)')\n",
    "#Hypothesis is more or less true when song popularity >0.8"
   ]
  },
  {
   "cell_type": "code",
   "execution_count": null,
   "metadata": {},
   "outputs": [],
   "source": [
    "#Hypothesis: Key will be important to Song Popularity\n",
    "grid = sns.jointplot(tempdf['song.hotttnesss'], tempdf['key'], alpha=0.5)\n",
    "grid.set_axis_labels('Song Popularity','Key')\n",
    "#Not so much..."
   ]
  },
  {
   "cell_type": "code",
   "execution_count": null,
   "metadata": {},
   "outputs": [],
   "source": [
    "#Hypothesis - Very Fast Tempo Songs, and Very slow tempo songs will not be popular\n",
    "grid = sns.jointplot(tempdf['song.hotttnesss'], tempdf['tempo'], alpha=0.5, kind='hex')\n",
    "grid.set_axis_labels('Song Popularity','Tempo')\n",
    "#This is somewhat predictive, VERY slow songs (Tempo <80) amd VERU fast songs (>180) tend not to be highly\n",
    "#successful (popularity >0.7)"
   ]
  },
  {
   "cell_type": "code",
   "execution_count": null,
   "metadata": {},
   "outputs": [],
   "source": [
    "#Hypothesis - major or minor keys will have no effect on song hotness\n",
    "minor = tempdf[(tempdf['mode'] == 0)]\n",
    "major = tempdf[(tempdf['mode'] == 1)]\n",
    "ax = minor['song.hotttnesss'].plot.hist(alpha=0.5, bins=20)\n",
    "ax1 = major['song.hotttnesss'].plot.hist(alpha=0.5, bins=20)\n",
    "plt.legend(['Minor', 'Major'])\n",
    "ax.axes.set_xlabel = 'Song Popularity'"
   ]
  },
  {
   "cell_type": "code",
   "execution_count": null,
   "metadata": {},
   "outputs": [],
   "source": [
    "#Hypothesis - artist hotness and song hotness are closely related\n",
    "ax = tempdf.plot.scatter('song.hotttnesss', 'artist.hotttnesss', alpha=0.5)\n",
    "ax.axes.set_xlabel('Song Popularity')\n",
    "ax.axes.set_ylabel('Artist Popularity')\n",
    "#Not as closely related as you might expect"
   ]
  },
  {
   "cell_type": "code",
   "execution_count": null,
   "metadata": {},
   "outputs": [],
   "source": [
    "#strategy is - formulate a hypothesis, investigate a single dimension against song.hottness\n",
    "\n",
    "#hypothesis - length of artist name will be unrelated to song hotness\n",
    "mylen = np.vectorize(len)\n",
    "\n",
    "tempdf['artist_name_length'] = mylen(tempdf['artist.name'])\n",
    "#remove rows where artist_name_length is = 0\n",
    "tempdf = tempdf[(tempdf['artist_name_length']!=0)]\n",
    "#remove rows where artist name length > 22\n",
    "tempdf = tempdf[(tempdf['artist_name_length']<=22)]\n",
    "#remove rows of very unpopular songs\n",
    "tempdf = tempdf[(tempdf['song.hotttnesss']>=0.1)]\n",
    "ax = tempdf.plot.scatter('song.hotttnesss', 'artist_name_length')\n",
    "ax.set_xlabel('Song Popularity')\n",
    "ax.set_ylabel('Artist Name Length')\n",
    "#it's very much unrelated!"
   ]
  },
  {
   "cell_type": "code",
   "execution_count": null,
   "metadata": {},
   "outputs": [],
   "source": []
  }
 ],
 "metadata": {
  "kernelspec": {
   "display_name": "Python 3",
   "language": "python",
   "name": "python3"
  },
  "language_info": {
   "codemirror_mode": {
    "name": "ipython",
    "version": 3
   },
   "file_extension": ".py",
   "mimetype": "text/x-python",
   "name": "python",
   "nbconvert_exporter": "python",
   "pygments_lexer": "ipython3",
   "version": "3.6.4"
  }
 },
 "nbformat": 4,
 "nbformat_minor": 1
}
