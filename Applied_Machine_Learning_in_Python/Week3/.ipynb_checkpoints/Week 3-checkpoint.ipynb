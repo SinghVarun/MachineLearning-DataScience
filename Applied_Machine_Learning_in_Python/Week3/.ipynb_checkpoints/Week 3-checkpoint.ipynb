{
 "cells": [
  {
   "cell_type": "markdown",
   "metadata": {
    "collapsed": true
   },
   "source": [
    "## Creating Imbalnced dataset"
   ]
  },
  {
   "cell_type": "code",
   "execution_count": 1,
   "metadata": {},
   "outputs": [],
   "source": [
    "import numpy as np\n",
    "import pandas as pd\n",
    "import seaborn as sns\n",
    "import matplotlib.pyplot as plt\n",
    "from sklearn.model_selection import train_test_split\n",
    "from sklearn.datasets import load_digits\n",
    "%matplotlib notebook\n",
    "\n",
    "dataset = load_digits()"
   ]
  },
  {
   "cell_type": "code",
   "execution_count": 13,
   "metadata": {},
   "outputs": [
    {
     "name": "stdout",
     "output_type": "stream",
     "text": [
      "Class Name: 0 \t Class Count: 178\n",
      "Class Name: 1 \t Class Count: 182\n",
      "Class Name: 2 \t Class Count: 177\n",
      "Class Name: 3 \t Class Count: 183\n",
      "Class Name: 4 \t Class Count: 181\n",
      "Class Name: 5 \t Class Count: 182\n",
      "Class Name: 6 \t Class Count: 181\n",
      "Class Name: 7 \t Class Count: 179\n",
      "Class Name: 8 \t Class Count: 174\n",
      "Class Name: 9 \t Class Count: 180\n"
     ]
    }
   ],
   "source": [
    "X, y = dataset.data, dataset.target\n",
    "\n",
    "for class_name, class_count in zip(dataset.target_names, np.bincount(dataset.target)):\n",
    "    print(\"Class Name: {} \\t Class Count: {}\".format(class_name, class_count))"
   ]
  },
  {
   "cell_type": "code",
   "execution_count": 25,
   "metadata": {},
   "outputs": [
    {
     "name": "stdout",
     "output_type": "stream",
     "text": [
      "Original labels \t [1 2 3 4 5 6 7 8 9 0 1 2 3 4 5 6 7 8 9 0 1 2 3 4 5 6 7 8 9]\n",
      "New labels \t [1 0 0 0 0 0 0 0 0 0 1 0 0 0 0 0 0 0 0 0 1 0 0 0 0 0 0 0 0]\n",
      "Count of classes [1615  182]\n"
     ]
    }
   ],
   "source": [
    "# create dataset with imbalanced binary classes. \n",
    "# Negative class (0) is not a digit\n",
    "# positive class (1) is a digit\n",
    "y_binary_imbalanced = y.copy()\n",
    "## Here all index position values have been set to 0 except for \n",
    "## index position which contain value == 1 this is done to create and imbalanced dataset\n",
    "y_binary_imbalanced[y_binary_imbalanced != 1] = 0\n",
    "print(\"Original labels \\t\", y[1:30])\n",
    "print(\"New labels \\t\", y_binary_imbalanced[1:30])\n",
    "print(\"Count of classes\", np.bincount(y_binary_imbalanced))"
   ]
  },
  {
   "cell_type": "code",
   "execution_count": 27,
   "metadata": {},
   "outputs": [
    {
     "data": {
      "text/plain": [
       "0.9044444444444445"
      ]
     },
     "execution_count": 27,
     "metadata": {},
     "output_type": "execute_result"
    }
   ],
   "source": [
    "X_train, X_test, y_train, y_test = train_test_split(X, y_binary_imbalanced, random_state=0)\n",
    "from sklearn.svm import SVC\n",
    "svm = SVC(kernel='rbf', C=0.1).fit(X_train, y_train)\n",
    "## Even for imbalanced set we get a very high score value.\n",
    "svm.score(X_test, y_test)"
   ]
  },
  {
   "cell_type": "markdown",
   "metadata": {},
   "source": [
    "### Dummy Classifier\n",
    "#### Dummy Classifier is a classifier that makes prediction using simple rules, which can be useful as a baseline for comparision against actual classifier. Its specially helpful with imbalanced classes. "
   ]
  },
  {
   "cell_type": "code",
   "execution_count": 29,
   "metadata": {},
   "outputs": [
    {
     "name": "stdout",
     "output_type": "stream",
     "text": [
      "Dummy classifier score 0.9044444444444445\n",
      "[0 0 0 0 0 0 0 0 0 0 0 0 0 0 0 0 0 0 0 0 0 0 0 0 0 0 0 0 0 0 0 0 0 0 0 0 0\n",
      " 0 0 0 0 0 0 0 0 0 0 0 0 0 0 0 0 0 0 0 0 0 0 0 0 0 0 0 0 0 0 0 0 0 0 0 0 0\n",
      " 0 0 0 0 0 0 0 0 0 0 0 0 0 0 0 0 0 0 0 0 0 0 0 0 0 0 0 0 0 0 0 0 0 0 0 0 0\n",
      " 0 0 0 0 0 0 0 0 0 0 0 0 0 0 0 0 0 0 0 0 0 0 0 0 0 0 0 0 0 0 0 0 0 0 0 0 0\n",
      " 0 0 0 0 0 0 0 0 0 0 0 0 0 0 0 0 0 0 0 0 0 0 0 0 0 0 0 0 0 0 0 0 0 0 0 0 0\n",
      " 0 0 0 0 0 0 0 0 0 0 0 0 0 0 0 0 0 0 0 0 0 0 0 0 0 0 0 0 0 0 0 0 0 0 0 0 0\n",
      " 0 0 0 0 0 0 0 0 0 0 0 0 0 0 0 0 0 0 0 0 0 0 0 0 0 0 0 0 0 0 0 0 0 0 0 0 0\n",
      " 0 0 0 0 0 0 0 0 0 0 0 0 0 0 0 0 0 0 0 0 0 0 0 0 0 0 0 0 0 0 0 0 0 0 0 0 0\n",
      " 0 0 0 0 0 0 0 0 0 0 0 0 0 0 0 0 0 0 0 0 0 0 0 0 0 0 0 0 0 0 0 0 0 0 0 0 0\n",
      " 0 0 0 0 0 0 0 0 0 0 0 0 0 0 0 0 0 0 0 0 0 0 0 0 0 0 0 0 0 0 0 0 0 0 0 0 0\n",
      " 0 0 0 0 0 0 0 0 0 0 0 0 0 0 0 0 0 0 0 0 0 0 0 0 0 0 0 0 0 0 0 0 0 0 0 0 0\n",
      " 0 0 0 0 0 0 0 0 0 0 0 0 0 0 0 0 0 0 0 0 0 0 0 0 0 0 0 0 0 0 0 0 0 0 0 0 0\n",
      " 0 0 0 0 0 0]\n"
     ]
    }
   ],
   "source": [
    "from sklearn.dummy import DummyClassifier\n",
    "# negative class (0) is more frequest\n",
    "dummyClf = DummyClassifier(strategy='most_frequent').fit(X_train, y_train)\n",
    "print(\"Dummy classifier score {}\".format(dummyClf.score(X_test, y_test)))\n",
    "\n",
    "y_test_dummy_predict = dummyClf.predict(X_test)\n",
    "print(y_test_dummy_predict) ## All output value prediction is 0\n",
    "\n"
   ]
  },
  {
   "cell_type": "code",
   "execution_count": 30,
   "metadata": {},
   "outputs": [
    {
     "data": {
      "text/plain": [
       "0.9733333333333334"
      ]
     },
     "execution_count": 30,
     "metadata": {},
     "output_type": "execute_result"
    }
   ],
   "source": [
    "## Support Vector Machine with kernel == liners\n",
    "svm = SVC(kernel='linear', C=0.1).fit(X_train, y_train)\n",
    "svm.score(X_test, y_test)"
   ]
  },
  {
   "cell_type": "markdown",
   "metadata": {},
   "source": [
    "## Confusion matrix\n",
    "\n",
    "### Using dummy classfier with startegy \"most_frequent\", \"stratified\"\n"
   ]
  },
  {
   "cell_type": "code",
   "execution_count": 33,
   "metadata": {},
   "outputs": [
    {
     "name": "stdout",
     "output_type": "stream",
     "text": [
      "Confusion Matrix with Dummy Classifier Starategy: \"most_frequent \" is\n",
      " [[407   0]\n",
      " [ 43   0]]\n",
      "Confusion Matrix with Dummy Classifier Starategy: \"stratified \" is\n",
      " [[365  42]\n",
      " [ 39   4]]\n"
     ]
    }
   ],
   "source": [
    "from sklearn.metrics import confusion_matrix\n",
    "from sklearn.dummy import DummyClassifier\n",
    "strategies = [\"most_frequent\", \"stratified\"]\n",
    "for strat in strategies:\n",
    "    dummyClf = DummyClassifier(strategy = strat).fit(X_train, y_train)\n",
    "    y_test_predict = dummyClf.predict(X_test)\n",
    "    confusion = confusion_matrix(y_test, y_test_predict)\n",
    "    print(\"Confusion Matrix with Dummy Classifier Starategy: \\\"{} \\\" is\\n {}\".format(strat, confusion))\n",
    "    \n"
   ]
  },
  {
   "cell_type": "markdown",
   "metadata": {},
   "source": [
    "### Using Support Vector Machine with kernel = linear\n"
   ]
  },
  {
   "cell_type": "code",
   "execution_count": 49,
   "metadata": {},
   "outputs": [
    {
     "name": "stdout",
     "output_type": "stream",
     "text": [
      "Confusion matrix with SVM classifier: \n",
      " [[402   5]\n",
      " [  5  38]]\n"
     ]
    }
   ],
   "source": [
    "from sklearn.svm import SVC\n",
    "from sklearn.metrics import confusion_matrix\n",
    "svm = SVC(kernel = 'linear').fit(X_train, y_train)\n",
    "svm_y_test_predict = svm.predict(X_test)\n",
    "\n",
    "confusion = confusion_matrix(y_test, svm_y_test_predict)\n",
    "print(\"Confusion matrix with SVM classifier: \\n {}\".format(confusion))"
   ]
  },
  {
   "cell_type": "markdown",
   "metadata": {},
   "source": [
    "### Using LogisticRegession "
   ]
  },
  {
   "cell_type": "code",
   "execution_count": 46,
   "metadata": {},
   "outputs": [
    {
     "name": "stdout",
     "output_type": "stream",
     "text": [
      "Confusion matrix with LogisticRegression classifier: \n",
      " [[401   6]\n",
      " [  6  37]]\n"
     ]
    }
   ],
   "source": [
    "from sklearn.linear_model import LogisticRegression\n",
    "clf = LogisticRegression().fit(X_train, y_train)\n",
    "lr_y_test_predict = clf.predict(X_test)\n",
    "confusion = confusion_matrix(y_test, lr_y_test_predict)\n",
    "print(\"Confusion matrix with LogisticRegression classifier: \\n {}\".format(confusion))"
   ]
  },
  {
   "cell_type": "code",
   "execution_count": 47,
   "metadata": {},
   "outputs": [
    {
     "name": "stdout",
     "output_type": "stream",
     "text": [
      "Confusion matrix with DecisionTreeClassifier classifier: \n",
      " [[400   7]\n",
      " [ 17  26]]\n"
     ]
    }
   ],
   "source": [
    "### using Decisiontree\n",
    "from sklearn.tree import DecisionTreeClassifier\n",
    "from sklearn.metrics import confusion_matrix\n",
    "\n",
    "dtclf = DecisionTreeClassifier(max_depth=2).fit(X_train, y_train)\n",
    "dt_y_test_predict = dtclf.predict(X_test)\n",
    "confusion = confusion_matrix(y_test, dt_y_test_predict)\n",
    "print(\"Confusion matrix with DecisionTreeClassifier classifier: \\n {}\".format(confusion))"
   ]
  },
  {
   "cell_type": "markdown",
   "metadata": {},
   "source": [
    "### Evaluation metrics for binary classification"
   ]
  },
  {
   "cell_type": "code",
   "execution_count": 42,
   "metadata": {},
   "outputs": [
    {
     "name": "stdout",
     "output_type": "stream",
     "text": [
      "accuracy score: \t0.947\n",
      "recall score: \t0.605\n",
      "precision score: \t0.788\n",
      "f1 score: \t0.684\n"
     ]
    }
   ],
   "source": [
    "from sklearn.metrics import accuracy_score, recall_score, precision_score, f1_score\n",
    "# accuracy = (TP + TN)/ (TP + TN + FP + FN)\n",
    "# recall = TP/(TP + FN)\n",
    "# precision = TP/(TP + FP)\n",
    "# f1 = 2*TP/(2*TP + FN + FP)\n",
    "\n",
    "print(\"accuracy score: \\t{:.3f}\".format(accuracy_score(y_test, y_test_predict)))\n",
    "print(\"recall score: \\t{:.3f}\".format(recall_score(y_test, y_test_predict)))\n",
    "print(\"precision score: \\t{:.3f}\".format(precision_score(y_test, y_test_predict)))\n",
    "print(\"f1 score: \\t{:.3f}\".format(f1_score(y_test, y_test_predict)))\n"
   ]
  },
  {
   "cell_type": "markdown",
   "metadata": {},
   "source": [
    "#### classification report"
   ]
  },
  {
   "cell_type": "code",
   "execution_count": 44,
   "metadata": {},
   "outputs": [
    {
     "name": "stdout",
     "output_type": "stream",
     "text": [
      "             precision    recall  f1-score   support\n",
      "\n",
      "      not 1       0.96      0.98      0.97       407\n",
      "          1       0.79      0.60      0.68        43\n",
      "\n",
      "avg / total       0.94      0.95      0.94       450\n",
      "\n"
     ]
    }
   ],
   "source": [
    "from sklearn.metrics import classification_report\n",
    "print(classification_report(y_test, y_test_predict, target_names=['not 1', '1']))"
   ]
  },
  {
   "cell_type": "code",
   "execution_count": 50,
   "metadata": {},
   "outputs": [
    {
     "name": "stdout",
     "output_type": "stream",
     "text": [
      "Random class-proportional (dummy)\n",
      "              precision    recall  f1-score   support\n",
      "\n",
      "      not 1       0.90      1.00      0.95       407\n",
      "          1       0.00      0.00      0.00        43\n",
      "\n",
      "avg / total       0.82      0.90      0.86       450\n",
      "\n",
      "SVM\n",
      "              precision    recall  f1-score   support\n",
      "\n",
      "      not 1       0.99      0.99      0.99       407\n",
      "          1       0.88      0.88      0.88        43\n",
      "\n",
      "avg / total       0.98      0.98      0.98       450\n",
      "\n",
      "Logistic regression\n",
      "              precision    recall  f1-score   support\n",
      "\n",
      "      not 1       0.99      0.99      0.99       407\n",
      "          1       0.86      0.86      0.86        43\n",
      "\n",
      "avg / total       0.97      0.97      0.97       450\n",
      "\n",
      "Decision tree\n",
      "              precision    recall  f1-score   support\n",
      "\n",
      "      not 1       0.96      0.98      0.97       407\n",
      "          1       0.79      0.60      0.68        43\n",
      "\n",
      "avg / total       0.94      0.95      0.94       450\n",
      "\n"
     ]
    },
    {
     "name": "stderr",
     "output_type": "stream",
     "text": [
      "C:\\Varun\\AppliedDataScienceWithPython\\Python\\venv\\lib\\site-packages\\sklearn\\metrics\\classification.py:1135: UndefinedMetricWarning: Precision and F-score are ill-defined and being set to 0.0 in labels with no predicted samples.\n",
      "  'precision', 'predicted', average, warn_for)\n"
     ]
    }
   ],
   "source": [
    "print('Random class-proportional (dummy)\\n', \n",
    "      classification_report(y_test, y_test_dummy_predict, target_names=['not 1', '1']))\n",
    "print('SVM\\n', \n",
    "      classification_report(y_test, svm_y_test_predict, target_names = ['not 1', '1']))\n",
    "print('Logistic regression\\n', \n",
    "      classification_report(y_test, lr_y_test_predict, target_names = ['not 1', '1']))\n",
    "print('Decision tree\\n', \n",
    "      classification_report(y_test, dt_y_test_predict, target_names = ['not 1', '1']))"
   ]
  },
  {
   "cell_type": "markdown",
   "metadata": {},
   "source": [
    "### Decision function and predict_proba"
   ]
  },
  {
   "cell_type": "code",
   "execution_count": 54,
   "metadata": {},
   "outputs": [
    {
     "data": {
      "text/plain": [
       "[(0, -23.170886635032367),\n",
       " (0, -13.541054798849387),\n",
       " (0, -21.718413136457976),\n",
       " (0, -18.903020550902248),\n",
       " (0, -19.7269666643861),\n",
       " (0, -9.747628871855815),\n",
       " (1, 5.235051314423329),\n",
       " (0, -19.310537938137294),\n",
       " (0, -25.095759344767664),\n",
       " (0, -21.825189510495207),\n",
       " (0, -24.151852734844528),\n",
       " (0, -19.576855810540003),\n",
       " (0, -22.568658205900537),\n",
       " (0, -10.827496606118995),\n",
       " (0, -11.91420728411845),\n",
       " (0, -10.978199252947608),\n",
       " (1, 11.208246208567669),\n",
       " (0, -27.65478206154317),\n",
       " (0, -12.865793269895619),\n",
       " (0, -25.854664390304848)]"
      ]
     },
     "execution_count": 54,
     "metadata": {},
     "output_type": "execute_result"
    }
   ],
   "source": [
    "from sklearn.linear_model import LogisticRegression\n",
    "from sklearn.model_selection import train_test_split\n",
    "\n",
    "X_train, X_test, y_train, y_test = train_test_split(X, y_binary_imbalanced, random_state=0)\n",
    "clf = LogisticRegression().fit(X_train, y_train)\n",
    "y_test_decision_scores = clf.decision_function(X_test)\n",
    "y_score_list = list(zip(y_test[0:20], y_test_decision_scores[0:20]))\n",
    "\n",
    "# show the decision_function scores for first 20 instances\n",
    "y_score_list"
   ]
  },
  {
   "cell_type": "code",
   "execution_count": 56,
   "metadata": {},
   "outputs": [
    {
     "data": {
      "text/plain": [
       "[(0, 8.649914078868219e-11),\n",
       " (0, 1.3158126286243035e-06),\n",
       " (0, 3.696689883353834e-10),\n",
       " (0, 6.173372468198197e-09),\n",
       " (0, 2.7082405211646893e-09),\n",
       " (0, 5.842963762979811e-05),\n",
       " (1, 0.9947016706742451),\n",
       " (0, 4.107143992825214e-09),\n",
       " (0, 1.2619733897929706e-11),\n",
       " (0, 3.3223136379213224e-10),\n",
       " (0, 3.2432739177225284e-11),\n",
       " (0, 3.146875397559668e-09),\n",
       " (0, 1.5796332879748914e-10),\n",
       " (0, 1.984583389607351e-05),\n",
       " (0, 6.6945688566289126e-06),\n",
       " (0, 1.7069516901045985e-05),\n",
       " (1, 0.9999864382844827),\n",
       " (0, 9.76519123035378e-13),\n",
       " (0, 2.5849720695693154e-06),\n",
       " (0, 5.908291631682226e-12)]"
      ]
     },
     "execution_count": 56,
     "metadata": {},
     "output_type": "execute_result"
    }
   ],
   "source": [
    "y_test_predict_proba_score = clf.predict_proba(X_test)\n",
    "y_score_list = list(zip(y_test[0:20], y_test_predict_proba_score[0:20, 1]))\n",
    "y_score_list"
   ]
  },
  {
   "cell_type": "markdown",
   "metadata": {},
   "source": [
    "### Precision Recall Curve\n"
   ]
  },
  {
   "cell_type": "code",
   "execution_count": 62,
   "metadata": {},
   "outputs": [
    {
     "name": "stderr",
     "output_type": "stream",
     "text": [
      "C:\\Varun\\AppliedDataScienceWithPython\\Python\\venv\\lib\\site-packages\\matplotlib\\cbook\\deprecation.py:107: MatplotlibDeprecationWarning: Adding an axes using the same arguments as a previous axes currently reuses the earlier instance.  In a future version, a new instance will always be created and returned.  Meanwhile, this warning can be suppressed, and the future behavior ensured, by passing a unique label to each axes instance.\n",
      "  warnings.warn(message, mplDeprecation, stacklevel=1)\n"
     ]
    },
    {
     "data": {
      "image/png": "[encoded data removed]",
      "text/plain": [
       "<Figure size 432x288 with 1 Axes>"
      ]
     },
     "metadata": {},
     "output_type": "display_data"
    }
   ],
   "source": [
    "from sklearn.metrics import precision_recall_curve\n",
    "\n",
    "precision, recall, threshold = precision_recall_curve(y_test, lr_y_test_predict)\n",
    "closet_zero = np.argmin(threshold)\n",
    "closet_zero_precision = precision[closet_zero]\n",
    "closet_zero_recall = recall[closet_zero]\n",
    "\n",
    "plt.figure()\n",
    "plt.xlim([0.0, 1.01])\n",
    "plt.ylim([0.0, 1.01])\n",
    "plt.plot(precision, recall, label='Precision-Recall Curve')\n",
    "plt.plot(closet_zero_precision, closet_zero_recall, 'o', markersize = 12, fillstyle = 'none', c='r', mew=3)\n",
    "plt.xlabel('Recall')\n",
    "plt.ylabel('Precision')\n",
    "plt.axes().set_aspect('equal')\n",
    "plt.show()"
   ]
  },
  {
   "cell_type": "code",
   "execution_count": 60,
   "metadata": {},
   "outputs": [
    {
     "data": {
      "text/plain": [
       "(array([0.09555556, 0.86046512, 1.        ]),\n",
       " array([1.        , 0.86046512, 0.        ]),\n",
       " array([0, 1]))"
      ]
     },
     "execution_count": 60,
     "metadata": {},
     "output_type": "execute_result"
    }
   ],
   "source": [
    "precision, recall, threshold"
   ]
  },
  {
   "cell_type": "markdown",
   "metadata": {},
   "source": [
    "### ROC (Receiver operating characteristics) Curve and AUC (Area under ROC curve)"
   ]
  },
  {
   "cell_type": "code",
   "execution_count": 67,
   "metadata": {},
   "outputs": [
    {
     "name": "stderr",
     "output_type": "stream",
     "text": [
      "C:\\Varun\\AppliedDataScienceWithPython\\Python\\venv\\lib\\site-packages\\matplotlib\\cbook\\deprecation.py:107: MatplotlibDeprecationWarning: Adding an axes using the same arguments as a previous axes currently reuses the earlier instance.  In a future version, a new instance will always be created and returned.  Meanwhile, this warning can be suppressed, and the future behavior ensured, by passing a unique label to each axes instance.\n",
      "  warnings.warn(message, mplDeprecation, stacklevel=1)\n"
     ]
    },
    {
     "data": {
      "image/png": "[encoded data removed]",
      "text/plain": [
       "<Figure size 720x576 with 1 Axes>"
      ]
     },
     "metadata": {},
     "output_type": "display_data"
    }
   ],
   "source": [
    "from sklearn.metrics import roc_curve, auc\n",
    "from sklearn.model_selection import train_test_split\n",
    "from sklearn.linear_model import LogisticRegression\n",
    "\n",
    "X_train, X_test, y_train, y_test = train_test_split(X, y_binary_imbalanced, random_state=0)\n",
    "clf = LogisticRegression().fit(X_train, y_train)\n",
    "y_test_decision_scores = clf.decision_function(X_test)\n",
    "\n",
    "## Calculate FalsePositiveRate, TruePositiveRate using roc_curve\n",
    "fpr, tpr, _ = roc_curve(y_test, y_test_decision_scores)\n",
    "roc_curve_auc = auc(fpr, tpr)\n",
    "plt.figure(figsize=(10, 8))\n",
    "plt.xlim([-0.01, 1.00])\n",
    "plt.ylim([-0.01, 1.00])\n",
    "plt.plot(fpr, tpr, lw=3, label='LogRegr ROC curve (area = {:.2f}'.format(roc_curve_auc))\n",
    "plt.xlabel('False Positive Rate', fontsize=16)\n",
    "plt.ylabel('True Positive Rate', fontsize=16)\n",
    "plt.title('ROC curve (1-of-10 digits classifier)', fontsize=16)\n",
    "plt.plot([0, 1], [0, 1], color='navy', lw=3, linestyle='--', label='decision boundary')\n",
    "plt.legend(loc='lower right', fontsize=13)\n",
    "plt.axes().set_aspect('equal')\n",
    "plt.show()\n"
   ]
  },
  {
   "cell_type": "code",
   "execution_count": 71,
   "metadata": {},
   "outputs": [
    {
     "name": "stdout",
     "output_type": "stream",
     "text": [
      "Gamma = 0.01 \t accuracy = 0.91 AUC = 0.99\n",
      "Gamma = 0.10 \t accuracy = 0.90 AUC = 0.99\n",
      "Gamma = 0.20 \t accuracy = 0.90 AUC = 0.99\n",
      "Gamma = 1.00 \t accuracy = 0.90 AUC = 0.99\n"
     ]
    },
    {
     "name": "stderr",
     "output_type": "stream",
     "text": [
      "C:\\Varun\\AppliedDataScienceWithPython\\Python\\venv\\lib\\site-packages\\matplotlib\\cbook\\deprecation.py:107: MatplotlibDeprecationWarning: Adding an axes using the same arguments as a previous axes currently reuses the earlier instance.  In a future version, a new instance will always be created and returned.  Meanwhile, this warning can be suppressed, and the future behavior ensured, by passing a unique label to each axes instance.\n",
      "  warnings.warn(message, mplDeprecation, stacklevel=1)\n"
     ]
    },
    {
     "data": {
      "image/png": "[encoded data removed]",
      "text/plain": [
       "<Figure size 720x576 with 1 Axes>"
      ]
     },
     "metadata": {},
     "output_type": "display_data"
    }
   ],
   "source": [
    "from matplotlib import cm\n",
    "from sklearn.svm import SVC\n",
    "X_train, X_test, y_train, y_test = train_test_split(X, y_binary_imbalanced, random_state=0)\n",
    "\n",
    "plt.figure(figsize=(10, 8))\n",
    "plt.xlim([0.01, 1])\n",
    "plt.ylim([0.01, 1])\n",
    "\n",
    "for g in [0.01, 0.1, 0.20, 1]:\n",
    "    svc = SVC(gamma = g).fit(X_train, y_train)\n",
    "    y_score_svm = svm.decision_function(X_test)\n",
    "    fpr, tpr, _ = roc_curve(y_test, y_score_svm)\n",
    "    roc_curve_auc = auc(fpr, tpr)\n",
    "    accuracy_svm = svc.score(X_test, y_test)\n",
    "    print(\"Gamma = {:.2f} \\t accuracy = {:.2f} AUC = {:.2f}\".format(g, accuracy_svm, roc_curve_auc))\n",
    "    plt.plot(fpr, tpr, lw=3, alpha=0.3, label=\"SVM (Gamma = {:.2f}, AUC = {:.2f})\".format(g, roc_curve_auc))\n",
    "\n",
    "plt.xlabel('False Postive rate', fontsize=16)\n",
    "plt.ylabel('True Positive rate', fontsize=16)\n",
    "plt.plot([0, 1], [0, 1], color='k', lw=0.5, linestyle='--')\n",
    "plt.legend(loc=\"lower right\", fontsize=11)\n",
    "plt.title('ROC curve: (1-of-10 digits classifier)', fontsize=16)\n",
    "plt.axes().set_aspect('equal')\n",
    "\n",
    "plt.show()\n"
   ]
  },
  {
   "cell_type": "markdown",
   "metadata": {},
   "source": [
    "### Evaluation measures for multi class classification\n",
    "\n",
    "#### Multi-Class confusion matrix\n"
   ]
  },
  {
   "cell_type": "code",
   "execution_count": 85,
   "metadata": {},
   "outputs": [
    {
     "data": {
      "image/png": "[encoded data removed]",
      "text/plain": [
       "<Figure size 396x288 with 2 Axes>"
      ]
     },
     "metadata": {},
     "output_type": "display_data"
    },
    {
     "data": {
      "image/png": "[encoded data removed]",
      "text/plain": [
       "<Figure size 396x288 with 2 Axes>"
      ]
     },
     "metadata": {},
     "output_type": "display_data"
    }
   ],
   "source": [
    "from sklearn.model_selection import train_test_split\n",
    "from sklearn.svm import SVC\n",
    "from sklearn.datasets import load_digits\n",
    "import seaborn as sns\n",
    "from sklearn.metrics import confusion_matrix, accuracy_score, classification_report\n",
    "import pandas as pd\n",
    "dataset = load_digits()\n",
    "X, y = dataset.data, dataset.target\n",
    "X_train, X_test, y_train, y_test = train_test_split(X,y, random_state=0)\n",
    "svm = SVC(kernel = 'linear').fit(X_train, y_train)\n",
    "y_test_predict_svm_linear = svm.predict(X_test)\n",
    "confusion = confusion_matrix(y_test, y_test_predict_svm_linear)\n",
    "dfConfusion = pd.DataFrame(confusion, index=[i for i in range(0, 10, 1)], columns = [i for i in range(0, 10)])\n",
    "plt.figure(figsize=(5.5, 4))\n",
    "sns.heatmap(dfConfusion, annot=True);\n",
    "plt.title('svm kernel = \\\"linear\\\"\\n Accuracy score {:.3f}'.format(accuracy_score(y_test, y_test_predict_svm_linear)))\n",
    "plt.ylabel('True label')\n",
    "plt.xlabel('Predict label');\n",
    "\n",
    "## Changing SVM kernel model to 'rbf'\n",
    "svm = SVC(kernel = 'rbf').fit(X_train, y_train)\n",
    "y_test_predict_svm_rbf = svm.predict(X_test)\n",
    "confusion = confusion_matrix(y_test, y_test_predict_svm_rbf)\n",
    "dfConfusion = pd.DataFrame(confusion, index=[i for i in range(0, 10, 1)], columns = [i for i in range(0, 10)])\n",
    "plt.figure(figsize=(5.5, 4))\n",
    "sns.heatmap(dfConfusion, annot=True);\n",
    "plt.title('svm kernel = \\\"rbf\\\"\\n Accuracy score {:.3f}'.format(accuracy_score(y_test, y_test_predict_svm_rbf)))\n",
    "plt.ylabel('True label')\n",
    "plt.xlabel('Predict label');"
   ]
  },
  {
   "cell_type": "code",
   "execution_count": 90,
   "metadata": {},
   "outputs": [
    {
     "name": "stdout",
     "output_type": "stream",
     "text": [
      "Classfication for Predicted o/p from SVM Linear Kernel\n",
      "('             precision    recall  f1-score   support\\n'\n",
      " '\\n'\n",
      " '          0       1.00      1.00      1.00        37\\n'\n",
      " '          1       0.91      0.98      0.94        43\\n'\n",
      " '          2       0.98      1.00      0.99        44\\n'\n",
      " '          3       0.98      0.96      0.97        45\\n'\n",
      " '          4       0.97      1.00      0.99        38\\n'\n",
      " '          5       0.98      0.98      0.98        48\\n'\n",
      " '          6       1.00      0.98      0.99        52\\n'\n",
      " '          7       1.00      0.98      0.99        48\\n'\n",
      " '          8       0.94      0.92      0.93        48\\n'\n",
      " '          9       0.96      0.94      0.95        47\\n'\n",
      " '\\n'\n",
      " 'avg / total       0.97      0.97      0.97       450\\n')\n",
      "Classfication for Predicted o/p from SVM RBF Kernel\n",
      "('             precision    recall  f1-score   support\\n'\n",
      " '\\n'\n",
      " '          0       1.00      0.65      0.79        37\\n'\n",
      " '          1       1.00      0.23      0.38        43\\n'\n",
      " '          2       1.00      0.39      0.56        44\\n'\n",
      " '          3       1.00      0.93      0.97        45\\n'\n",
      " '          4       0.14      1.00      0.25        38\\n'\n",
      " '          5       1.00      0.33      0.50        48\\n'\n",
      " '          6       1.00      0.54      0.70        52\\n'\n",
      " '          7       1.00      0.35      0.52        48\\n'\n",
      " '          8       1.00      0.02      0.04        48\\n'\n",
      " '          9       1.00      0.55      0.71        47\\n'\n",
      " '\\n'\n",
      " 'avg / total       0.93      0.49      0.54       450\\n')\n"
     ]
    }
   ],
   "source": [
    "from pprint import pprint as pp\n",
    "print(\"Classfication for Predicted o/p from SVM Linear Kernel\")\n",
    "pp(classification_report(y_test, y_test_predict_svm_linear))\n",
    "print(\"Classfication for Predicted o/p from SVM RBF Kernel\")\n",
    "pp(classification_report(y_test, y_test_predict_svm_rbf))"
   ]
  },
  {
   "cell_type": "markdown",
   "metadata": {},
   "source": [
    "### Micro and Macro Average"
   ]
  },
  {
   "cell_type": "code",
   "execution_count": 98,
   "metadata": {},
   "outputs": [
    {
     "name": "stdout",
     "output_type": "stream",
     "text": [
      "Micro average Precision (treat instances equally)\n",
      "0.9711111111111111\n",
      "Macro average Precision (treat instances equally)\n",
      "0.9714311576233408\n"
     ]
    }
   ],
   "source": [
    "from sklearn.metrics import precision_score, f1_score\n",
    "#print(precision_score(y_test, y_test_predict_svm_linear))\n",
    "print(\"Micro average Precision (treat instances equally)\\n{}\".format(precision_score(y_test, y_test_predict_svm_linear, average='micro')))\n",
    "print(\"Macro average Precision (treat classes equally)\\n{}\".format(precision_score(y_test, y_test_predict_svm_linear, average='macro')))"
   ]
  },
  {
   "cell_type": "code",
   "execution_count": 99,
   "metadata": {},
   "outputs": [
    {
     "name": "stdout",
     "output_type": "stream",
     "text": [
      "Micro average F1Score (treat instances equally)\n",
      "0.9711111111111111\n",
      "Macro average F1Score (treat instances equally)\n",
      "0.9717373353133952\n"
     ]
    }
   ],
   "source": [
    "print(\"Micro average F1Score (treat instances equally)\\n{}\".format(f1_score(y_test, y_test_predict_svm_linear, average='micro')))\n",
    "print(\"Macro average F1Score (treat classes equally)\\n{}\".format(f1_score(y_test, y_test_predict_svm_linear, average='macro')))"
   ]
  },
  {
   "cell_type": "markdown",
   "metadata": {},
   "source": [
    "### Regression evaluation metrics\n"
   ]
  },
  {
   "cell_type": "code",
   "execution_count": 109,
   "metadata": {},
   "outputs": [
    {
     "name": "stdout",
     "output_type": "stream",
     "text": [
      "Linear Coef [-698.80206267]\n",
      "Mean Squared error (dummy) 4965.13\n",
      "Mean Squared error (Linear Regression) 4646.74\n",
      "r2_score(dummy) -0.00\n",
      "r2_score(Linear Regression) 0.06\n"
     ]
    },
    {
     "data": {
      "image/png": "[encoded data removed]",
      "text/plain": [
       "<Figure size 720x648 with 1 Axes>"
      ]
     },
     "metadata": {},
     "output_type": "display_data"
    }
   ],
   "source": [
    "from sklearn.datasets import load_diabetes\n",
    "from sklearn.linear_model import LinearRegression\n",
    "from sklearn.model_selection import train_test_split\n",
    "from sklearn.metrics import r2_score, mean_squared_error\n",
    "from sklearn.dummy import DummyRegressor\n",
    "\n",
    "datasets = load_diabetes()\n",
    "\n",
    "X = datasets.data[:, None, 6]\n",
    "y = datasets.target\n",
    "\n",
    "X_train, X_test, y_train, y_test = train_test_split(X, y, random_state = 0)\n",
    "lr = LinearRegression().fit(X_train, y_train)\n",
    "dummy_lr = DummyRegressor(strategy='mean').fit(X_train, y_train)\n",
    "y_predict_lr = lr.predict(X_test)\n",
    "y_predict_dummy_lr = dummy_lr.predict(X_test)\n",
    "\n",
    "print(\"Linear Coef {}\".format(lr.coef_))\n",
    "print(\"Mean Squared error (dummy) {:.2f}\".format(mean_squared_error(y_test, y_predict_dummy_lr)))\n",
    "print(\"Mean Squared error (Linear Regression) {:.2f}\".format(mean_squared_error(y_test, y_predict_lr)))\n",
    "print(\"r2_score(dummy) {:.2f}\".format(r2_score(y_test, y_predict_dummy_lr)))\n",
    "print(\"r2_score(Linear Regression) {:.2f}\".format(r2_score(y_test, y_predict_lr)))\n",
    "\n",
    "\n",
    "plt.figure(figsize=(10, 9))\n",
    "plt.scatter(X_test, y_test, color='black')\n",
    "plt.plot(X_test, y_predict_lr, color='green', lw=2,label='LinearRegression-PredictedOutput')\n",
    "plt.plot(X_test, y_predict_dummy_lr, color='r', linestyle= 'dashed', lw = 2, label='DummyRegressor-PredictedOutput')\n",
    "plt.show()"
   ]
  },
  {
   "cell_type": "markdown",
   "metadata": {},
   "source": [
    "### Evaluation of various classfier\n",
    "#### Cross validation evaluation"
   ]
  },
  {
   "cell_type": "code",
   "execution_count": 114,
   "metadata": {},
   "outputs": [
    {
     "name": "stdout",
     "output_type": "stream",
     "text": [
      "cross validation score(accuracy): [0.91944444 0.98611111 0.97214485 0.97493036 0.96935933]\n",
      "cross validation score(AUC) [0.9641871  0.9976571  0.99372205 0.99699002 0.98675611]\n",
      "cross validation score(recall) [0.81081081 0.89189189 0.83333333 0.83333333 0.83333333]\n"
     ]
    }
   ],
   "source": [
    "from sklearn.model_selection import cross_val_score\n",
    "from sklearn.svm import SVC\n",
    "from sklearn.datasets import load_digits\n",
    "dataset =load_digits()\n",
    "## Making this a binary classification where target == 1\n",
    "## corresponds to positive class and others as negative class\n",
    "X, y = dataset.data, dataset.target == 1\n",
    "clf = SVC(kernel='linear', C=1)\n",
    "\n",
    "## Cross validating the score via different scoring metrics\n",
    "print (\"cross validation score(accuracy):\", cross_val_score(clf, X, y, cv=5))\n",
    "print (\"cross validation score(AUC)\", cross_val_score(clf, X, y, cv=5, scoring='roc_auc'))\n",
    "print (\"cross validation score(recall)\", cross_val_score(clf, X, y, cv=5, scoring='recall'))"
   ]
  },
  {
   "cell_type": "markdown",
   "metadata": {},
   "source": [
    "### GridSearchCV example\n"
   ]
  },
  {
   "cell_type": "code",
   "execution_count": 115,
   "metadata": {},
   "outputs": [
    {
     "name": "stdout",
     "output_type": "stream",
     "text": [
      "Grid best params (max. accuracy) {'gamma': 0.001}\n",
      "Grid best score (accuracy) 0.9962880475129918\n",
      "Test set AUC 0.99982858122393\n",
      "Grid best params (max. AUC) {'gamma': 0.001}\n",
      "Grid best score (AUC) 0.9998741278302142\n"
     ]
    }
   ],
   "source": [
    "from sklearn.model_selection import GridSearchCV, train_test_split\n",
    "from sklearn.svm import SVC\n",
    "from sklearn.metrics import roc_auc_score\n",
    "from sklearn.datasets import load_digits\n",
    "\n",
    "dataset = load_digits()\n",
    "X, y = dataset.data, dataset.target == 1\n",
    "X_train, X_test, y_train, y_test = train_test_split(X, y, random_state=0)\n",
    "\n",
    "## Kernel == \"rbf\"\n",
    "clf = SVC(kernel='rbf')\n",
    "grid_values = {'gamma':[0.001, 0.01, 0.05, 0.1, 1, 10, 100]}\n",
    "\n",
    "## Default metrics to optimize over grid parameter: accuracy\n",
    "grid_clf_acc = GridSearchCV(clf, param_grid=grid_values)\n",
    "grid_clf_acc.fit(X_train, y_train)\n",
    "y_test_decision_func_grid_accu = grid_clf_acc.decision_function(X_test)\n",
    "\n",
    "print(\"Grid best params (max. accuracy)\", grid_clf_acc.best_params_)\n",
    "print(\"Grid best score (accuracy)\", grid_clf_acc.best_score_)\n",
    "\n",
    "\n",
    "## alternative scoring metric to optimize over grid parameter : (AUC)\n",
    "grid_clf_auc = GridSearchCV(clf, param_grid=grid_values, scoring='roc_auc')\n",
    "grid_clf_auc.fit(X_train, y_train)\n",
    "y_test_decision_func_grid_auc =  grid_clf_auc.decision_function(X_test)\n",
    "\n",
    "print(\"Test set AUC\", roc_auc_score(y_test, y_test_decision_func_grid_auc))\n",
    "print(\"Grid best params (max. AUC)\", grid_clf_auc.best_params_)\n",
    "print(\"Grid best score (AUC)\", grid_clf_auc.best_score_)"
   ]
  },
  {
   "cell_type": "code",
   "execution_count": 117,
   "metadata": {},
   "outputs": [
    {
     "name": "stdout",
     "output_type": "stream",
     "text": [
      "['accuracy',\n",
      " 'adjusted_mutual_info_score',\n",
      " 'adjusted_rand_score',\n",
      " 'average_precision',\n",
      " 'completeness_score',\n",
      " 'explained_variance',\n",
      " 'f1',\n",
      " 'f1_macro',\n",
      " 'f1_micro',\n",
      " 'f1_samples',\n",
      " 'f1_weighted',\n",
      " 'fowlkes_mallows_score',\n",
      " 'homogeneity_score',\n",
      " 'log_loss',\n",
      " 'mean_absolute_error',\n",
      " 'mean_squared_error',\n",
      " 'median_absolute_error',\n",
      " 'mutual_info_score',\n",
      " 'neg_log_loss',\n",
      " 'neg_mean_absolute_error',\n",
      " 'neg_mean_squared_error',\n",
      " 'neg_mean_squared_log_error',\n",
      " 'neg_median_absolute_error',\n",
      " 'normalized_mutual_info_score',\n",
      " 'precision',\n",
      " 'precision_macro',\n",
      " 'precision_micro',\n",
      " 'precision_samples',\n",
      " 'precision_weighted',\n",
      " 'r2',\n",
      " 'recall',\n",
      " 'recall_macro',\n",
      " 'recall_micro',\n",
      " 'recall_samples',\n",
      " 'recall_weighted',\n",
      " 'roc_auc',\n",
      " 'v_measure_score']\n"
     ]
    }
   ],
   "source": [
    "from sklearn.metrics.scorer import SCORERS\n",
    "\n",
    "pp(sorted(list(SCORERS.keys())))"
   ]
  },
  {
   "cell_type": "code",
   "execution_count": null,
   "metadata": {},
   "outputs": [],
   "source": []
  }
 ],
 "metadata": {
  "kernelspec": {
   "display_name": "Python 3",
   "language": "python",
   "name": "python3"
  },
  "language_info": {
   "codemirror_mode": {
    "name": "ipython",
    "version": 3
   },
   "file_extension": ".py",
   "mimetype": "text/x-python",
   "name": "python",
   "nbconvert_exporter": "python",
   "pygments_lexer": "ipython3",
   "version": "3.6.4"
  }
 },
 "nbformat": 4,
 "nbformat_minor": 1
}
