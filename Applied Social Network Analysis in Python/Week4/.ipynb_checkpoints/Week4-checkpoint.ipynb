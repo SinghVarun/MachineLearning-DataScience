{
 "cells": [
  {
   "cell_type": "code",
   "execution_count": 43,
   "metadata": {},
   "outputs": [],
   "source": [
    "import networkx as nx\n",
    "import matplotlib.pyplot as plt\n",
    "import numpy as np\n",
    "G = nx.DiGraph()\n",
    "G.add_edges_from([(1, 2), (2, 6), (2, 5), (3, 2), (7, 2), (3, 4), (8, 3)])"
   ]
  },
  {
   "cell_type": "code",
   "execution_count": 48,
   "metadata": {},
   "outputs": [
    {
     "data": {
      "text/plain": [
       "{1: 0, 2: 3, 3: 1, 4: 1, 5: 1, 6: 1, 7: 0, 8: 0}"
      ]
     },
     "execution_count": 48,
     "metadata": {},
     "output_type": "execute_result"
    }
   ],
   "source": [
    "degrees = dict(G.in_degree())\n",
    "degrees"
   ]
  },
  {
   "cell_type": "code",
   "execution_count": 49,
   "metadata": {},
   "outputs": [],
   "source": [
    "degree_values = sorted(set(degrees.values()))"
   ]
  },
  {
   "cell_type": "code",
   "execution_count": 67,
   "metadata": {},
   "outputs": [
    {
     "data": {
      "image/png": "[encoded data removed]",
      "text/plain": [
       "<Figure size 432x288 with 1 Axes>"
      ]
     },
     "metadata": {},
     "output_type": "display_data"
    }
   ],
   "source": [
    "histogram = [len([key for key, val in degrees.items() if val == i])/nx.number_of_nodes(G) for i in degree_values]\n",
    "plt.bar(degree_values, histogram)\n",
    "plt.xlabel(\"degree\")\n",
    "plt.ylabel(\"fraction of nodes\")\n",
    "plt.show()"
   ]
  },
  {
   "cell_type": "markdown",
   "metadata": {},
   "source": [
    "### Preferential Attachment in NetworkX\n",
    "#### Demonstrate PowerLaw using barabasi_albert_graph()"
   ]
  },
  {
   "cell_type": "code",
   "execution_count": 70,
   "metadata": {},
   "outputs": [],
   "source": [
    "G = nx.barabasi_albert_graph(1000000, 1)\n",
    "degree = G.degree()"
   ]
  },
  {
   "cell_type": "code",
   "execution_count": 72,
   "metadata": {},
   "outputs": [],
   "source": [
    "degree = dict(degree)"
   ]
  },
  {
   "cell_type": "code",
   "execution_count": 81,
   "metadata": {},
   "outputs": [
    {
     "data": {
      "text/plain": [
       "1581"
      ]
     },
     "execution_count": 81,
     "metadata": {},
     "output_type": "execute_result"
    }
   ],
   "source": [
    "degree_values = sorted(set(degree.values()))\n",
    "max(degree_values)"
   ]
  },
  {
   "cell_type": "code",
   "execution_count": 83,
   "metadata": {},
   "outputs": [],
   "source": [
    "histogram = [len([key for key, val in degree.items() if val == i])/nx.number_of_nodes(G) for i in degree_values]"
   ]
  },
  {
   "cell_type": "code",
   "execution_count": 84,
   "metadata": {},
   "outputs": [
    {
     "data": {
      "image/png": "[encoded data removed]",
      "text/plain": [
       "<Figure size 432x288 with 1 Axes>"
      ]
     },
     "metadata": {},
     "output_type": "display_data"
    }
   ],
   "source": [
    "plt.figure()\n",
    "plt.plot(degree_values, histogram, 'o')\n",
    "plt.ylabel('Fraction of Nodes')\n",
    "plt.xlabel('degree')\n",
    "plt.xscale('log')\n",
    "plt.yscale('log')\n",
    "plt.show()"
   ]
  },
  {
   "cell_type": "code",
   "execution_count": 86,
   "metadata": {},
   "outputs": [],
   "source": [
    "G = nx.DiGraph()\n",
    "G.add_edges_from([('A', 'B'), ('B', 'A'), ('A', 'C'), ('C', 'A'), ('A', 'D'), ('B', 'C'), ('D', 'E'), ('E', 'C')])"
   ]
  },
  {
   "cell_type": "code",
   "execution_count": 87,
   "metadata": {},
   "outputs": [
    {
     "data": {
      "text/plain": [
       "InDegreeView({'A': 2, 'B': 1, 'C': 3, 'D': 1, 'E': 1})"
      ]
     },
     "execution_count": 87,
     "metadata": {},
     "output_type": "execute_result"
    }
   ],
   "source": [
    "G.in_degree()"
   ]
  },
  {
   "cell_type": "code",
   "execution_count": 89,
   "metadata": {},
   "outputs": [
    {
     "data": {
      "text/plain": [
       "8"
      ]
     },
     "execution_count": 89,
     "metadata": {},
     "output_type": "execute_result"
    }
   ],
   "source": [
    "nx.number_of_edges(G)"
   ]
  },
  {
   "cell_type": "code",
   "execution_count": 90,
   "metadata": {},
   "outputs": [],
   "source": [
    "G = nx.Graph()\n",
    "G.add_edges_from([('A', 'D'), ('A', 'E'), ('A', 'C'), ('C', 'G'), ('E', 'D'), ('D', 'H'), ('D', 'G'), ('D', 'B'), ('E', 'H'), ('F', 'H')])"
   ]
  },
  {
   "cell_type": "code",
   "execution_count": 96,
   "metadata": {},
   "outputs": [
    {
     "data": {
      "text/plain": [
       "[('E', 'G', 1),\n",
       " ('E', 'C', 1),\n",
       " ('E', 'F', 1),\n",
       " ('E', 'B', 1),\n",
       " ('F', 'B', 0),\n",
       " ('F', 'D', 1),\n",
       " ('F', 'G', 0),\n",
       " ('F', 'A', 0),\n",
       " ('F', 'C', 0),\n",
       " ('H', 'G', 1),\n",
       " ('H', 'C', 0),\n",
       " ('H', 'A', 2),\n",
       " ('H', 'B', 1),\n",
       " ('B', 'G', 1),\n",
       " ('B', 'C', 0),\n",
       " ('B', 'A', 1),\n",
       " ('D', 'C', 2),\n",
       " ('G', 'A', 2)]"
      ]
     },
     "execution_count": 96,
     "metadata": {},
     "output_type": "execute_result"
    }
   ],
   "source": [
    "[(e[0], e[1], len(list(nx.common_neighbors(G, e[0], e[1])))) for e in nx.non_edges(G)]"
   ]
  },
  {
   "cell_type": "code",
   "execution_count": 97,
   "metadata": {},
   "outputs": [
    {
     "data": {
      "text/plain": [
       "[('E', 'G', 0.25),\n",
       " ('E', 'C', 0.25),\n",
       " ('E', 'F', 0.3333333333333333),\n",
       " ('E', 'B', 0.3333333333333333),\n",
       " ('F', 'B', 0.0),\n",
       " ('F', 'D', 0.2),\n",
       " ('F', 'G', 0.0),\n",
       " ('F', 'A', 0.0),\n",
       " ('F', 'C', 0.0),\n",
       " ('H', 'G', 0.25),\n",
       " ('H', 'C', 0.0),\n",
       " ('H', 'A', 0.5),\n",
       " ('H', 'B', 0.3333333333333333),\n",
       " ('B', 'G', 0.5),\n",
       " ('B', 'C', 0.0),\n",
       " ('B', 'A', 0.3333333333333333),\n",
       " ('D', 'C', 0.4),\n",
       " ('G', 'A', 0.6666666666666666)]"
      ]
     },
     "execution_count": 97,
     "metadata": {},
     "output_type": "execute_result"
    }
   ],
   "source": [
    "list(nx.jaccard_coefficient(G))"
   ]
  },
  {
   "cell_type": "code",
   "execution_count": 98,
   "metadata": {},
   "outputs": [
    {
     "data": {
      "text/plain": [
       "[('E', 'G', 0.2),\n",
       " ('E', 'C', 0.3333333333333333),\n",
       " ('E', 'F', 0.3333333333333333),\n",
       " ('E', 'B', 0.2),\n",
       " ('F', 'B', 0),\n",
       " ('F', 'D', 0.3333333333333333),\n",
       " ('F', 'G', 0),\n",
       " ('F', 'A', 0),\n",
       " ('F', 'C', 0),\n",
       " ('H', 'G', 0.2),\n",
       " ('H', 'C', 0),\n",
       " ('H', 'A', 0.5333333333333333),\n",
       " ('H', 'B', 0.2),\n",
       " ('B', 'G', 0.2),\n",
       " ('B', 'C', 0),\n",
       " ('B', 'A', 0.2),\n",
       " ('D', 'C', 0.8333333333333333),\n",
       " ('G', 'A', 0.7)]"
      ]
     },
     "execution_count": 98,
     "metadata": {},
     "output_type": "execute_result"
    }
   ],
   "source": [
    "list(nx.resource_allocation_index(G))"
   ]
  },
  {
   "cell_type": "code",
   "execution_count": 99,
   "metadata": {},
   "outputs": [
    {
     "data": {
      "text/plain": [
       "[('E', 'G', 6),\n",
       " ('E', 'C', 6),\n",
       " ('E', 'F', 3),\n",
       " ('E', 'B', 3),\n",
       " ('F', 'B', 1),\n",
       " ('F', 'D', 5),\n",
       " ('F', 'G', 2),\n",
       " ('F', 'A', 3),\n",
       " ('F', 'C', 2),\n",
       " ('H', 'G', 6),\n",
       " ('H', 'C', 6),\n",
       " ('H', 'A', 9),\n",
       " ('H', 'B', 3),\n",
       " ('B', 'G', 2),\n",
       " ('B', 'C', 2),\n",
       " ('B', 'A', 3),\n",
       " ('D', 'C', 10),\n",
       " ('G', 'A', 6)]"
      ]
     },
     "execution_count": 99,
     "metadata": {},
     "output_type": "execute_result"
    }
   ],
   "source": [
    "list(nx.preferential_attachment(G))"
   ]
  },
  {
   "cell_type": "code",
   "execution_count": 102,
   "metadata": {},
   "outputs": [],
   "source": [
    "#A, B, C, D, G} and {E, F, H}\n",
    "G.node['A']['community']=0\n",
    "G.node['B']['community']=0\n",
    "G.node['C']['community']=0\n",
    "G.node['D']['community']=0\n",
    "G.node['G']['community']=0\n",
    "G.node['E']['community']=1\n",
    "G.node['F']['community']=1\n",
    "G.node['H']['community']=1"
   ]
  },
  {
   "cell_type": "code",
   "execution_count": 103,
   "metadata": {},
   "outputs": [
    {
     "data": {
      "text/plain": [
       "NodeDataView({'A': {'community': 0}, 'D': {'community': 0}, 'E': {'community': 1}, 'C': {'community': 0}, 'G': {'community': 0}, 'H': {'community': 1}, 'B': {'community': 0}, 'F': {'community': 1}})"
      ]
     },
     "execution_count": 103,
     "metadata": {},
     "output_type": "execute_result"
    }
   ],
   "source": [
    "G.nodes(data=True)"
   ]
  },
  {
   "cell_type": "code",
   "execution_count": 104,
   "metadata": {},
   "outputs": [
    {
     "data": {
      "text/plain": [
       "[('E', 'G', 0),\n",
       " ('E', 'C', 0),\n",
       " ('E', 'F', 0.3333333333333333),\n",
       " ('E', 'B', 0),\n",
       " ('F', 'B', 0),\n",
       " ('F', 'D', 0),\n",
       " ('F', 'G', 0),\n",
       " ('F', 'A', 0),\n",
       " ('F', 'C', 0),\n",
       " ('H', 'G', 0),\n",
       " ('H', 'C', 0),\n",
       " ('H', 'A', 0),\n",
       " ('H', 'B', 0),\n",
       " ('B', 'G', 0.2),\n",
       " ('B', 'C', 0),\n",
       " ('B', 'A', 0.2),\n",
       " ('D', 'C', 0.8333333333333333),\n",
       " ('G', 'A', 0.7)]"
      ]
     },
     "execution_count": 104,
     "metadata": {},
     "output_type": "execute_result"
    }
   ],
   "source": [
    "list(nx.ra_index_soundarajan_hopcroft(G))"
   ]
  },
  {
   "cell_type": "code",
   "execution_count": 105,
   "metadata": {},
   "outputs": [
    {
     "data": {
      "text/plain": [
       "[('E', 'G', 1),\n",
       " ('E', 'C', 1),\n",
       " ('E', 'F', 2),\n",
       " ('E', 'B', 1),\n",
       " ('F', 'B', 0),\n",
       " ('F', 'D', 1),\n",
       " ('F', 'G', 0),\n",
       " ('F', 'A', 0),\n",
       " ('F', 'C', 0),\n",
       " ('H', 'G', 1),\n",
       " ('H', 'C', 0),\n",
       " ('H', 'A', 2),\n",
       " ('H', 'B', 1),\n",
       " ('B', 'G', 2),\n",
       " ('B', 'C', 0),\n",
       " ('B', 'A', 2),\n",
       " ('D', 'C', 4),\n",
       " ('G', 'A', 4)]"
      ]
     },
     "execution_count": 105,
     "metadata": {},
     "output_type": "execute_result"
    }
   ],
   "source": [
    "list(nx.cn_soundarajan_hopcroft(G))"
   ]
  },
  {
   "cell_type": "code",
   "execution_count": 108,
   "metadata": {},
   "outputs": [
    {
     "name": "stdout",
     "output_type": "stream",
     "text": [
      "0.532226190476196\n",
      "8.26336936936937\n"
     ]
    }
   ],
   "source": [
    "G1 = nx.watts_strogatz_graph(1000, 6, 0.04)\n",
    "print(nx.average_clustering(G1))\n",
    "print(nx.average_shortest_path_length(G1))"
   ]
  },
  {
   "cell_type": "code",
   "execution_count": 109,
   "metadata": {},
   "outputs": [
    {
     "name": "stdout",
     "output_type": "stream",
     "text": [
      "0.5722809523809521\n",
      "6.600724724724725\n"
     ]
    }
   ],
   "source": [
    "G1 = nx.watts_strogatz_graph(1000, 8, 0.04)\n",
    "print(nx.average_clustering(G1))\n",
    "print(nx.average_shortest_path_length(G1))"
   ]
  },
  {
   "cell_type": "code",
   "execution_count": 110,
   "metadata": {},
   "outputs": [
    {
     "name": "stdout",
     "output_type": "stream",
     "text": [
      "0.5926398046398037\n",
      "5.588532532532533\n"
     ]
    }
   ],
   "source": [
    "G1 = nx.watts_strogatz_graph(1000, 10, 0.04)\n",
    "print(nx.average_clustering(G1))\n",
    "print(nx.average_shortest_path_length(G1))"
   ]
  },
  {
   "cell_type": "code",
   "execution_count": null,
   "metadata": {},
   "outputs": [],
   "source": []
  }
 ],
 "metadata": {
  "kernelspec": {
   "display_name": "Python 3",
   "language": "python",
   "name": "python3"
  },
  "language_info": {
   "codemirror_mode": {
    "name": "ipython",
    "version": 3
   },
   "file_extension": ".py",
   "mimetype": "text/x-python",
   "name": "python",
   "nbconvert_exporter": "python",
   "pygments_lexer": "ipython3",
   "version": "3.6.4"
  }
 },
 "nbformat": 4,
 "nbformat_minor": 1
}
